{
  "nbformat": 4,
  "nbformat_minor": 0,
  "metadata": {
    "colab": {
      "name": "get_tweets.ipynb",
      "version": "0.3.2",
      "provenance": [],
      "collapsed_sections": [],
      "include_colab_link": true
    },
    "kernelspec": {
      "name": "python3",
      "display_name": "Python 3"
    }
  },
  "cells": [
    {
      "cell_type": "markdown",
      "metadata": {
        "id": "view-in-github",
        "colab_type": "text"
      },
      "source": [
        "<a href=\"https://colab.research.google.com/github/lazy0107/nlp-tweet/blob/master/get_tweets.ipynb\" target=\"_parent\"><img src=\"https://colab.research.google.com/assets/colab-badge.svg\" alt=\"Open In Colab\"/></a>"
      ]
    },
    {
      "metadata": {
        "id": "atsreknyEOwg",
        "colab_type": "code",
        "colab": {}
      },
      "cell_type": "code",
      "source": [
        "!pip install twitter\n",
        "!pip install tweepy"
      ],
      "execution_count": 0,
      "outputs": []
    },
    {
      "metadata": {
        "id": "PtoXlh18SeQz",
        "colab_type": "code",
        "colab": {}
      },
      "cell_type": "code",
      "source": [
        "from twitter import *\n",
        "import tweepy\n",
        "import re"
      ],
      "execution_count": 0,
      "outputs": []
    },
    {
      "metadata": {
        "id": "aBv58o-YG5L-",
        "colab_type": "code",
        "colab": {}
      },
      "cell_type": "code",
      "source": [
        "# put your keys\n",
        "CONSUMER_KEY = 'XXXXXXXXXXXXXXXXXXXXXXXXXXXXXXX'\n",
        "CONSUMER_SECRET = 'XXXXXXXXXXXXXXXXXXXXXXXXXXXXXXX'\n",
        "ACCESS_TOKEN = 'XXXXXXXXXXXXXXXXXXXXXXXXXXXXXXX'\n",
        "ACCESS_TOKEN_SECRET = 'XXXXXXXXXXXXXXXXXXXXXXXXXXXXXXX'"
      ],
      "execution_count": 0,
      "outputs": []
    },
    {
      "metadata": {
        "id": "xRvrzm3XQzRp",
        "colab_type": "code",
        "colab": {}
      },
      "cell_type": "code",
      "source": [
        "auth = OAuth(ACCESS_TOKEN,ACCESS_TOKEN_SECRET,CONSUMER_KEY,CONSUMER_SECRET)\n",
        "twitter = Twitter(auth = auth)\n",
        "\n",
        "# id23424856 means JPN\n",
        "results = twitter.trends.place(_id = 23424856)\n",
        "list_trend = []\n",
        "for result in results:\n",
        "  for trend in result['trends']:\n",
        "    list_trend.append(trend['name'])\n",
        "print(list_trend)"
      ],
      "execution_count": 0,
      "outputs": []
    },
    {
      "metadata": {
        "id": "gmlqiMyOW_QV",
        "colab_type": "code",
        "colab": {}
      },
      "cell_type": "code",
      "source": [
        "auth = tweepy.OAuthHandler(CONSUMER_KEY, CONSUMER_SECRET)\n",
        "auth.set_access_token(ACCESS_TOKEN, ACCESS_TOKEN_SECRET)\n",
        "api = tweepy.API(auth)\n",
        "\n",
        "words = list_trend\n",
        "set_count = 100\n",
        "\n",
        "list_text = []\n",
        "for word in words:\n",
        "    tweets = api.search(q=word, count=set_count)\n",
        "    for tweet in tweets:\n",
        "        list_text.append(tweet.text)\n",
        "        print(tweet.text)"
      ],
      "execution_count": 0,
      "outputs": []
    },
    {
      "metadata": {
        "id": "wiq2yhZviiUx",
        "colab_type": "code",
        "colab": {}
      },
      "cell_type": "code",
      "source": [
        "list_tmp = []\n",
        "for text in list_text:\n",
        "    text_tmp = text\n",
        "    text_tmp = re.sub('RT .*', '', text_tmp)\n",
        "    text_tmp = re.sub('@.*', '', text_tmp)\n",
        "    text_tmp = re.sub('http.*', '', text_tmp)\n",
        "    text_tmp = re.sub('#.*', '', text_tmp)\n",
        "    text_tmp = re.sub('\\n', '', text_tmp)\n",
        "    text_tmp = text_tmp.strip()\n",
        "    if text_tmp != '':\n",
        "        list_tmp.append(text_tmp)\n",
        "list_tmp = list(set(list_tmp))\n",
        "print(list_tmp)"
      ],
      "execution_count": 0,
      "outputs": []
    },
    {
      "metadata": {
        "id": "v_XL6qUxsUsd",
        "colab_type": "code",
        "colab": {}
      },
      "cell_type": "code",
      "source": [
        "from google.colab import files\n",
        "import pickle\n",
        "from datetime import datetime as dt\n",
        "\n",
        "tdatetime = dt.now()\n",
        "str_ymd = tdatetime.strftime('%Y%m%d%H%M%S')\n",
        "filename = str_ymd + '_tweetsSearched.pickle'\n",
        "with open(filename, 'wb') as f:\n",
        "  pickle.dump(list_tmp, f)\n",
        "files.download(filename)"
      ],
      "execution_count": 0,
      "outputs": []
    }
  ]
}